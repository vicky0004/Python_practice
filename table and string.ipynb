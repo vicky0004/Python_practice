{
 "cells": [
  {
   "cell_type": "code",
   "execution_count": 10,
   "id": "a260dd61",
   "metadata": {},
   "outputs": [
    {
     "name": "stdout",
     "output_type": "stream",
     "text": [
      "3 x 1 = 3\n",
      "3 x 2 = 6\n",
      "3 x 3 = 9\n",
      "3 x 4 = 12\n",
      "3 x 5 = 15\n",
      "3 x 6 = 18\n",
      "3 x 7 = 21\n",
      "3 x 8 = 24\n",
      "3 x 9 = 27\n",
      "3 x 10 = 30\n",
      "\n",
      "\n",
      "4 x 1 = 4\n",
      "4 x 2 = 8\n",
      "4 x 3 = 12\n",
      "4 x 4 = 16\n",
      "4 x 5 = 20\n",
      "4 x 6 = 24\n",
      "4 x 7 = 28\n",
      "4 x 8 = 32\n",
      "4 x 9 = 36\n",
      "4 x 10 = 40\n",
      "\n",
      "\n",
      "5 x 1 = 5\n",
      "5 x 2 = 10\n",
      "5 x 3 = 15\n",
      "5 x 4 = 20\n",
      "5 x 5 = 25\n",
      "5 x 6 = 30\n",
      "5 x 7 = 35\n",
      "5 x 8 = 40\n",
      "5 x 9 = 45\n",
      "5 x 10 = 50\n"
     ]
    }
   ],
   "source": [
    "#table of 3,4,5\n",
    "num1=3\n",
    "num2=4\n",
    "num3=5\n",
    "for i in range(1,11):\n",
    "    print(num1,\"x\",i,\"=\",num1*i,)\n",
    "print(\"\\n\")\n",
    "for i in range(1,11):\n",
    "    print(num2,\"x\",i,\"=\",num2*i)\n",
    "print(\"\\n\")\n",
    "for i in range(1,11):\n",
    "    print(num3,\"x\",i,\"=\",num3*i)"
   ]
  },
  {
   "cell_type": "code",
   "execution_count": 13,
   "id": "18a8097a",
   "metadata": {},
   "outputs": [
    {
     "name": "stdout",
     "output_type": "stream",
     "text": [
      "this is the table of  3\n",
      "3 x 1 = 3\n",
      "3 x 2 = 6\n",
      "3 x 3 = 9\n",
      "3 x 4 = 12\n",
      "3 x 5 = 15\n",
      "3 x 6 = 18\n",
      "3 x 7 = 21\n",
      "3 x 8 = 24\n",
      "3 x 9 = 27\n",
      "3 x 10 = 30\n",
      "\n",
      "\n",
      "this is the table of  4\n",
      "4 x 1 = 4\n",
      "4 x 2 = 8\n",
      "4 x 3 = 12\n",
      "4 x 4 = 16\n",
      "4 x 5 = 20\n",
      "4 x 6 = 24\n",
      "4 x 7 = 28\n",
      "4 x 8 = 32\n",
      "4 x 9 = 36\n",
      "4 x 10 = 40\n",
      "\n",
      "\n",
      "this is the table of  5\n",
      "5 x 1 = 5\n",
      "5 x 2 = 10\n",
      "5 x 3 = 15\n",
      "5 x 4 = 20\n",
      "5 x 5 = 25\n",
      "5 x 6 = 30\n",
      "5 x 7 = 35\n",
      "5 x 8 = 40\n",
      "5 x 9 = 45\n",
      "5 x 10 = 50\n",
      "\n",
      "\n"
     ]
    }
   ],
   "source": [
    "for j in range(3,6):\n",
    "    print(\"this is the table of \",j)\n",
    "    for i in range(1,11):\n",
    "        print(j,\"x\",i,\"=\",j*i,)\n",
    "    print(\"\\n\")"
   ]
  },
  {
   "cell_type": "code",
   "execution_count": 1,
   "id": "7eeb49bd",
   "metadata": {},
   "outputs": [
    {
     "name": "stdout",
     "output_type": "stream",
     "text": [
      "my name is vicky kumar ,im 22 years old,im from cse\n"
     ]
    }
   ],
   "source": [
    "# use of f string \n",
    "name =\"vicky\" \n",
    "age=22\n",
    "branch=\"cse\"\n",
    "print(f\"my name is {name} kumar ,im {age} years old,im from {branch}\")"
   ]
  },
  {
   "cell_type": "code",
   "execution_count": 2,
   "id": "843281df",
   "metadata": {},
   "outputs": [
    {
     "name": "stdout",
     "output_type": "stream",
     "text": [
      "the sum of 500 and 600 is 1100\n"
     ]
    }
   ],
   "source": [
    "a=500\n",
    "b=600\n",
    "print(\"the sum of {0} and {1} is {2}\".format(a,b,a+b))"
   ]
  }
 ],
 "metadata": {
  "kernelspec": {
   "display_name": "Python 3 (ipykernel)",
   "language": "python",
   "name": "python3"
  },
  "language_info": {
   "codemirror_mode": {
    "name": "ipython",
    "version": 3
   },
   "file_extension": ".py",
   "mimetype": "text/x-python",
   "name": "python",
   "nbconvert_exporter": "python",
   "pygments_lexer": "ipython3",
   "version": "3.9.9"
  }
 },
 "nbformat": 4,
 "nbformat_minor": 5
}
