{
 "cells": [
  {
   "cell_type": "code",
   "execution_count": null,
   "id": "98a682b3",
   "metadata": {},
   "outputs": [],
   "source": [
    "#change comma seperated values in list and tuple\n",
    "values = input(\"Input some comma seprated numbers : \")\n",
    "List = values.split(\",\")\n",
    "Tuple = tuple(List)\n",
    "print('List : ',List)\n",
    "print('Tuple : ',Tuple)"
   ]
  },
  {
   "cell_type": "code",
   "execution_count": null,
   "id": "f99ea9a4",
   "metadata": {},
   "outputs": [],
   "source": []
  }
 ],
 "metadata": {
  "kernelspec": {
   "display_name": "Python 3 (ipykernel)",
   "language": "python",
   "name": "python3"
  },
  "language_info": {
   "codemirror_mode": {
    "name": "ipython",
    "version": 3
   },
   "file_extension": ".py",
   "mimetype": "text/x-python",
   "name": "python",
   "nbconvert_exporter": "python",
   "pygments_lexer": "ipython3",
   "version": "3.9.9"
  }
 },
 "nbformat": 4,
 "nbformat_minor": 5
}
