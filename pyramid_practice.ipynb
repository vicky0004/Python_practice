{
 "cells": [
  {
   "cell_type": "code",
   "execution_count": 1,
   "id": "4f966926",
   "metadata": {},
   "outputs": [
    {
     "name": "stdout",
     "output_type": "stream",
     "text": [
      "enter numbers of line 5\n",
      "0 \n",
      "0 1 \n",
      "0 1 2 \n",
      "0 1 2 3 \n",
      "0 1 2 3 4 \n"
     ]
    }
   ],
   "source": [
    "# code for print right align Pyramid\n",
    "def myPattern(n):\n",
    "    if n>10:\n",
    "        print(\"it is very big number \\\"please enter 1-10\\\" \")\n",
    "    else:\n",
    "        for i in range(n):\n",
    "            for j in range(i+1):\n",
    "                print(j,end=\" \")\n",
    "            print(\"\\r\")\n",
    "            \n",
    "        \n",
    "    \n",
    "    \n",
    "myPattern(int(input(\"enter numbers of line \")))"
   ]
  },
  {
   "cell_type": "code",
   "execution_count": 2,
   "id": "e0f6fee8",
   "metadata": {},
   "outputs": [
    {
     "name": "stdout",
     "output_type": "stream",
     "text": [
      "how many line4\n",
      "      0 \n",
      "    0 1 \n",
      "  0 1 2 \n",
      "0 1 2 3 \n"
     ]
    }
   ],
   "source": [
    "n=int(input(\"how many line\"))\n",
    "k=n-1\n",
    "for i in range(0,n):\n",
    "    for j in range(0,k):\n",
    "      \n",
    "        print(\" \",end=\" \")\n",
    "    k=k-1\n",
    "    for j in range(0,i+1):\n",
    "        print(j,end=\" \")\n",
    "    print(\"\\r\")"
   ]
  },
  {
   "cell_type": "code",
   "execution_count": 7,
   "id": "544efd2f",
   "metadata": {},
   "outputs": [
    {
     "name": "stdout",
     "output_type": "stream",
     "text": [
      "how many line4\n",
      "***0#\n",
      "**0#1#\n",
      "*0#1#2#\n",
      "0#1#2#3#\n"
     ]
    }
   ],
   "source": [
    "n=int(input(\"how many line\"))\n",
    "k=n-1\n",
    "for i in range(0,n):\n",
    "    for j in range(0,k):\n",
    "      \n",
    "        print(end=\" \")\n",
    "    k=k-1\n",
    "    for j in range(0,i+1):\n",
    "        print(j,end=\" \")\n",
    "    print(\"\\r\")"
   ]
  },
  {
   "cell_type": "code",
   "execution_count": 4,
   "id": "46500f0d",
   "metadata": {},
   "outputs": [
    {
     "name": "stdout",
     "output_type": "stream",
     "text": [
      "2\n"
     ]
    }
   ],
   "source": [
    "print(20%3)"
   ]
  },
  {
   "cell_type": "code",
   "execution_count": 7,
   "id": "d3c65106",
   "metadata": {},
   "outputs": [
    {
     "name": "stdout",
     "output_type": "stream",
     "text": [
      "2000\n",
      "True\n"
     ]
    }
   ],
   "source": [
    "year = int(input())\n",
    "if year<1900 and year>100000:\n",
    "        print(\"only 1900 to 100000 acceptable\")\n",
    "else:\n",
    "    # Write your logic here\n",
    "    if year%4==0 and year%400==0:\n",
    "        print(True)\n",
    "    else:\n",
    "        print(False)\n",
    "    \n",
    "\n"
   ]
  },
  {
   "cell_type": "code",
   "execution_count": 5,
   "id": "83d63886",
   "metadata": {},
   "outputs": [
    {
     "name": "stdout",
     "output_type": "stream",
     "text": [
      "1\n"
     ]
    }
   ],
   "source": [
    "s=\"vickyckjkjkck\"\n",
    "b=\"ck\"\n",
    "for b in range(0, len(s)):\n",
    "    i=0\n",
    "    i=i+1\n",
    "print(i)"
   ]
  },
  {
   "cell_type": "code",
   "execution_count": 6,
   "id": "6b75f2d8",
   "metadata": {},
   "outputs": [
    {
     "name": "stdout",
     "output_type": "stream",
     "text": [
      "3\n",
      "vick\n",
      "1\n"
     ]
    }
   ],
   "source": [
    "def count_substring(string, sub_string):\n",
    "    \n",
    "    if len(string)<1 and len(string)>200:\n",
    "        print(\"length of sring should be 1-200\")\n",
    "    else:\n",
    "        \n",
    "        for i in range(len(string)):\n",
    "            if s[i:i+len(sub_string)]==sub_string:\n",
    "                j=0\n",
    "                j=j+1\n",
    "    return j         \n",
    "if __name__ == '__main__':\n",
    "    string = input().strip()\n",
    "    sub_string = input().strip()\n",
    "    \n",
    "    count = count_substring(string, sub_string)\n",
    "    print(count)"
   ]
  },
  {
   "cell_type": "code",
   "execution_count": 17,
   "id": "72c96ca9",
   "metadata": {},
   "outputs": [
    {
     "name": "stdout",
     "output_type": "stream",
     "text": [
      "3\n"
     ]
    }
   ],
   "source": [
    "print(len(sub_string))"
   ]
  },
  {
   "cell_type": "code",
   "execution_count": 21,
   "id": "32bf6672",
   "metadata": {},
   "outputs": [
    {
     "name": "stdout",
     "output_type": "stream",
     "text": [
      "5\n",
      "23456\n"
     ]
    }
   ],
   "source": [
    "if __name__ == '__main__':\n",
    "    n = int(input())\n",
    "    arr = map(int, input().split())\n",
    "    score=list(arr)\n",
    "    if n<2 and n>10:\n",
    "        for i in range(len(arr)):\n",
    "            if arr[i]<(-100) and arr[i]>100:\n",
    "                print(\" invalid value\")\n",
    "            else:\n",
    "                for i in range(n-1):\n",
    "                    if score[i]>score[i+1]:\n",
    "                        winner_score=score[i]\n",
    "                        Runner_up_score=score[i+1]\n",
    "                    else:\n",
    "                        winner_score=score[i+1]\n",
    "                        Runner_up_score=score[i]\n",
    "                print(Runner_up_score)"
   ]
  },
  {
   "cell_type": "code",
   "execution_count": null,
   "id": "1038e88f",
   "metadata": {},
   "outputs": [],
   "source": [
    "for i in range(n-1):\n",
    "if score[i]>score[i+1]:\n",
    "winner_score=score[i]\n",
    "                        Runner_up_score=score[i+1]\n",
    "                    else:\n",
    "                        winner_score=score[i+1]\n",
    "                        Runner_up_score=score[i]\n",
    "                print(Runner_up_score)"
   ]
  },
  {
   "cell_type": "code",
   "execution_count": 27,
   "id": "eeb14428",
   "metadata": {},
   "outputs": [
    {
     "name": "stdout",
     "output_type": "stream",
     "text": [
      "5\n",
      "25642\n"
     ]
    },
    {
     "ename": "NameError",
     "evalue": "name 'Runner_up_score' is not defined",
     "output_type": "error",
     "traceback": [
      "\u001b[1;31m---------------------------------------------------------------------------\u001b[0m",
      "\u001b[1;31mNameError\u001b[0m                                 Traceback (most recent call last)",
      "\u001b[1;32mC:\\Users\\VICKYK~1\\AppData\\Local\\Temp/ipykernel_25116/4227873360.py\u001b[0m in \u001b[0;36m<module>\u001b[1;34m\u001b[0m\n\u001b[0;32m     15\u001b[0m                     \u001b[0mwinner_score\u001b[0m\u001b[1;33m=\u001b[0m\u001b[0mscore\u001b[0m\u001b[1;33m[\u001b[0m\u001b[0mi\u001b[0m\u001b[1;33m+\u001b[0m\u001b[1;36m1\u001b[0m\u001b[1;33m]\u001b[0m\u001b[1;33m\u001b[0m\u001b[1;33m\u001b[0m\u001b[0m\n\u001b[0;32m     16\u001b[0m                     \u001b[0mRunner_up_score\u001b[0m\u001b[1;33m=\u001b[0m\u001b[0mscore\u001b[0m\u001b[1;33m[\u001b[0m\u001b[0mi\u001b[0m\u001b[1;33m]\u001b[0m\u001b[1;33m\u001b[0m\u001b[1;33m\u001b[0m\u001b[0m\n\u001b[1;32m---> 17\u001b[1;33m \u001b[0mprint\u001b[0m\u001b[1;33m(\u001b[0m\u001b[0mRunner_up_score\u001b[0m\u001b[1;33m)\u001b[0m\u001b[1;33m\u001b[0m\u001b[1;33m\u001b[0m\u001b[0m\n\u001b[0m\u001b[0;32m     18\u001b[0m \u001b[1;33m\u001b[0m\u001b[0m\n",
      "\u001b[1;31mNameError\u001b[0m: name 'Runner_up_score' is not defined"
     ]
    }
   ],
   "source": [
    "if __name__ == '__main__':\n",
    "    n = int(input())\n",
    "    arr = map(int, input().split())\n",
    "    score=list(arr)\n",
    "    if n<2 and n>10:\n",
    "        \n",
    "        if arr[i]<(-100) and arr[i]>100:\n",
    "            print(\" invalid value\")\n",
    "        else:\n",
    "            for i in range(n-1):\n",
    "                if score[i]>score[i+1]:\n",
    "                    winner_score=score[i]\n",
    "                    Runner_up_score=score[i+1]\n",
    "                else:\n",
    "                    winner_score=score[i+1]\n",
    "                    Runner_up_score=score[i]\n",
    "print(Runner_up_score)\n",
    "            "
   ]
  },
  {
   "cell_type": "code",
   "execution_count": null,
   "id": "3c0ac59d",
   "metadata": {},
   "outputs": [],
   "source": []
  },
  {
   "cell_type": "code",
   "execution_count": null,
   "id": "a268dd14",
   "metadata": {},
   "outputs": [],
   "source": []
  }
 ],
 "metadata": {
  "kernelspec": {
   "display_name": "Python 3 (ipykernel)",
   "language": "python",
   "name": "python3"
  },
  "language_info": {
   "codemirror_mode": {
    "name": "ipython",
    "version": 3
   },
   "file_extension": ".py",
   "mimetype": "text/x-python",
   "name": "python",
   "nbconvert_exporter": "python",
   "pygments_lexer": "ipython3",
   "version": "3.9.9"
  }
 },
 "nbformat": 4,
 "nbformat_minor": 5
}
